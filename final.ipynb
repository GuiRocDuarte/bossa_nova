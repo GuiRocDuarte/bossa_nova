{
  "cells": [
    {
      "cell_type": "markdown",
      "source": [
        "# Conexão com o Drive (caso necessário)"
      ],
      "metadata": {
        "id": "D47vB_9L11Jy"
      },
      "id": "D47vB_9L11Jy"
    },
    {
      "cell_type": "code",
      "source": [
        "from google.colab import drive\n",
        "drive.mount('/content/drive')"
      ],
      "metadata": {
        "colab": {
          "base_uri": "https://localhost:8080/"
        },
        "id": "kYwVpZFz_OzP",
        "outputId": "13104a69-f9de-40fa-925b-3ba30fbd44ee"
      },
      "id": "kYwVpZFz_OzP",
      "execution_count": 1,
      "outputs": [
        {
          "output_type": "stream",
          "name": "stdout",
          "text": [
            "Mounted at /content/drive\n"
          ]
        }
      ]
    },
    {
      "cell_type": "markdown",
      "source": [
        "# Base"
      ],
      "metadata": {
        "id": "uyImsY2N1xhf"
      },
      "id": "uyImsY2N1xhf"
    },
    {
      "cell_type": "code",
      "source": [
        "!pip install streamlit -q\n",
        "!pip install keras -q\n",
        "!pip install pyngrok -q"
      ],
      "metadata": {
        "id": "3yqi-zBaZLLD"
      },
      "id": "3yqi-zBaZLLD",
      "execution_count": null,
      "outputs": []
    },
    {
      "cell_type": "code",
      "execution_count": null,
      "id": "22fd5b14",
      "metadata": {
        "id": "22fd5b14"
      },
      "outputs": [],
      "source": [
        "import numpy as np\n",
        "import pandas as pd\n",
        "import matplotlib.pyplot as plt\n",
        "import tensorflow as tf\n",
        "from collections import Counter\n",
        "import re\n",
        "from nltk.corpus import stopwords\n",
        "from nltk.tokenize import word_tokenize\n",
        "import nltk\n",
        "#from tensorflow.keras.preprocessing.text import one_hot\n",
        "from tensorflow.keras.preprocessing.text import Tokenizer\n",
        "from tensorflow.keras.models import Sequential\n",
        "from tensorflow.keras.layers import Dense\n",
        "from tensorflow.keras.layers import Flatten\n",
        "from tensorflow.keras.layers import Embedding\n",
        "#from tensorflow.keras.layers import LSTM\n",
        "#from tensorflow.keras.layers import Dropout\n",
        "from tensorflow.keras.layers import GRU\n",
        "from keras.losses import sparse_categorical_crossentropy\n",
        "from keras.models import load_model\n",
        "from tensorflow.keras.preprocessing.sequence import pad_sequences"
      ]
    },
    {
      "cell_type": "code",
      "execution_count": null,
      "id": "36398cb9",
      "metadata": {
        "colab": {
          "base_uri": "https://localhost:8080/",
          "height": 206
        },
        "id": "36398cb9",
        "outputId": "49ce427f-9f24-4617-d72a-d59cf839f57d"
      },
      "outputs": [
        {
          "output_type": "execute_result",
          "data": {
            "text/plain": [
              "                 song_name                 artist  \\\n",
              "0   Soneto de Fidelidade      Vinicius de Moraes    \n",
              "1                 A Casa      Vinicius de Moraes    \n",
              "2         Onde Anda Você      Vinicius de Moraes    \n",
              "3       Poema Enjoadinho      Vinicius de Moraes    \n",
              "4        Samba da Bênção      Vinicius de Moraes    \n",
              "\n",
              "                                         song_lyrics  \\\n",
              "0    De tudo, ao meu amor serei atento antes E co...   \n",
              "1    Era uma casa Muito engraçada Não tinha teto ...   \n",
              "2    E por falar em saudade Onde anda você Onde a...   \n",
              "3    Filhos... Filhos? Melhor não tê-los! Mas se ...   \n",
              "4    É melhor ser alegre que ser triste Alegria é...   \n",
              "\n",
              "                          song_composition song_lang  \n",
              "0                     Vinícius de Moraes.         pt  \n",
              "1   Sergio Bardotti / Vinícius de Moraes.         pt  \n",
              "2     Hermano Silva / Vinícius de Moraes.         pt  \n",
              "3                     Vinícius de Moraes.         pt  \n",
              "4      Baden Powell / Vinícius de Moraes.         pt  "
            ],
            "text/html": [
              "\n",
              "  <div id=\"df-b55e3e1f-8420-4536-90cb-ec5078aac1ed\" class=\"colab-df-container\">\n",
              "    <div>\n",
              "<style scoped>\n",
              "    .dataframe tbody tr th:only-of-type {\n",
              "        vertical-align: middle;\n",
              "    }\n",
              "\n",
              "    .dataframe tbody tr th {\n",
              "        vertical-align: top;\n",
              "    }\n",
              "\n",
              "    .dataframe thead th {\n",
              "        text-align: right;\n",
              "    }\n",
              "</style>\n",
              "<table border=\"1\" class=\"dataframe\">\n",
              "  <thead>\n",
              "    <tr style=\"text-align: right;\">\n",
              "      <th></th>\n",
              "      <th>song_name</th>\n",
              "      <th>artist</th>\n",
              "      <th>song_lyrics</th>\n",
              "      <th>song_composition</th>\n",
              "      <th>song_lang</th>\n",
              "    </tr>\n",
              "  </thead>\n",
              "  <tbody>\n",
              "    <tr>\n",
              "      <th>0</th>\n",
              "      <td>Soneto de Fidelidade</td>\n",
              "      <td>Vinicius de Moraes</td>\n",
              "      <td>De tudo, ao meu amor serei atento antes E co...</td>\n",
              "      <td>Vinícius de Moraes.</td>\n",
              "      <td>pt</td>\n",
              "    </tr>\n",
              "    <tr>\n",
              "      <th>1</th>\n",
              "      <td>A Casa</td>\n",
              "      <td>Vinicius de Moraes</td>\n",
              "      <td>Era uma casa Muito engraçada Não tinha teto ...</td>\n",
              "      <td>Sergio Bardotti / Vinícius de Moraes.</td>\n",
              "      <td>pt</td>\n",
              "    </tr>\n",
              "    <tr>\n",
              "      <th>2</th>\n",
              "      <td>Onde Anda Você</td>\n",
              "      <td>Vinicius de Moraes</td>\n",
              "      <td>E por falar em saudade Onde anda você Onde a...</td>\n",
              "      <td>Hermano Silva / Vinícius de Moraes.</td>\n",
              "      <td>pt</td>\n",
              "    </tr>\n",
              "    <tr>\n",
              "      <th>3</th>\n",
              "      <td>Poema Enjoadinho</td>\n",
              "      <td>Vinicius de Moraes</td>\n",
              "      <td>Filhos... Filhos? Melhor não tê-los! Mas se ...</td>\n",
              "      <td>Vinícius de Moraes.</td>\n",
              "      <td>pt</td>\n",
              "    </tr>\n",
              "    <tr>\n",
              "      <th>4</th>\n",
              "      <td>Samba da Bênção</td>\n",
              "      <td>Vinicius de Moraes</td>\n",
              "      <td>É melhor ser alegre que ser triste Alegria é...</td>\n",
              "      <td>Baden Powell / Vinícius de Moraes.</td>\n",
              "      <td>pt</td>\n",
              "    </tr>\n",
              "  </tbody>\n",
              "</table>\n",
              "</div>\n",
              "    <div class=\"colab-df-buttons\">\n",
              "      \n",
              "  <div class=\"colab-df-container\">\n",
              "    <button class=\"colab-df-convert\" onclick=\"convertToInteractive('df-b55e3e1f-8420-4536-90cb-ec5078aac1ed')\"\n",
              "            title=\"Convert this dataframe to an interactive table.\"\n",
              "            style=\"display:none;\">\n",
              "      \n",
              "  <svg xmlns=\"http://www.w3.org/2000/svg\" height=\"24px\" viewBox=\"0 -960 960 960\">\n",
              "    <path d=\"M120-120v-720h720v720H120Zm60-500h600v-160H180v160Zm220 220h160v-160H400v160Zm0 220h160v-160H400v160ZM180-400h160v-160H180v160Zm440 0h160v-160H620v160ZM180-180h160v-160H180v160Zm440 0h160v-160H620v160Z\"/>\n",
              "  </svg>\n",
              "    </button>\n",
              "    \n",
              "  <style>\n",
              "    .colab-df-container {\n",
              "      display:flex;\n",
              "      gap: 12px;\n",
              "    }\n",
              "\n",
              "    .colab-df-convert {\n",
              "      background-color: #E8F0FE;\n",
              "      border: none;\n",
              "      border-radius: 50%;\n",
              "      cursor: pointer;\n",
              "      display: none;\n",
              "      fill: #1967D2;\n",
              "      height: 32px;\n",
              "      padding: 0 0 0 0;\n",
              "      width: 32px;\n",
              "    }\n",
              "\n",
              "    .colab-df-convert:hover {\n",
              "      background-color: #E2EBFA;\n",
              "      box-shadow: 0px 1px 2px rgba(60, 64, 67, 0.3), 0px 1px 3px 1px rgba(60, 64, 67, 0.15);\n",
              "      fill: #174EA6;\n",
              "    }\n",
              "\n",
              "    .colab-df-buttons div {\n",
              "      margin-bottom: 4px;\n",
              "    }\n",
              "\n",
              "    [theme=dark] .colab-df-convert {\n",
              "      background-color: #3B4455;\n",
              "      fill: #D2E3FC;\n",
              "    }\n",
              "\n",
              "    [theme=dark] .colab-df-convert:hover {\n",
              "      background-color: #434B5C;\n",
              "      box-shadow: 0px 1px 3px 1px rgba(0, 0, 0, 0.15);\n",
              "      filter: drop-shadow(0px 1px 2px rgba(0, 0, 0, 0.3));\n",
              "      fill: #FFFFFF;\n",
              "    }\n",
              "  </style>\n",
              "\n",
              "    <script>\n",
              "      const buttonEl =\n",
              "        document.querySelector('#df-b55e3e1f-8420-4536-90cb-ec5078aac1ed button.colab-df-convert');\n",
              "      buttonEl.style.display =\n",
              "        google.colab.kernel.accessAllowed ? 'block' : 'none';\n",
              "\n",
              "      async function convertToInteractive(key) {\n",
              "        const element = document.querySelector('#df-b55e3e1f-8420-4536-90cb-ec5078aac1ed');\n",
              "        const dataTable =\n",
              "          await google.colab.kernel.invokeFunction('convertToInteractive',\n",
              "                                                    [key], {});\n",
              "        if (!dataTable) return;\n",
              "\n",
              "        const docLinkHtml = 'Like what you see? Visit the ' +\n",
              "          '<a target=\"_blank\" href=https://colab.research.google.com/notebooks/data_table.ipynb>data table notebook</a>'\n",
              "          + ' to learn more about interactive tables.';\n",
              "        element.innerHTML = '';\n",
              "        dataTable['output_type'] = 'display_data';\n",
              "        await google.colab.output.renderOutput(dataTable, element);\n",
              "        const docLink = document.createElement('div');\n",
              "        docLink.innerHTML = docLinkHtml;\n",
              "        element.appendChild(docLink);\n",
              "      }\n",
              "    </script>\n",
              "  </div>\n",
              "  \n",
              "    </div>\n",
              "  </div>\n",
              "  "
            ]
          },
          "metadata": {},
          "execution_count": 4
        }
      ],
      "source": [
        "df = pd.read_csv('/content/drive/MyDrive/Bossa_Nova/bossa_nova_songs_dataset (1).csv', dtype=str)\n",
        "diretorio_usado = \"/content/drive/MyDrive/Bossa_Nova\"\n",
        "df.head()"
      ]
    },
    {
      "cell_type": "markdown",
      "source": [
        "# Exploratoria"
      ],
      "metadata": {
        "id": "WjzlhiqOEsNj"
      },
      "id": "WjzlhiqOEsNj"
    },
    {
      "cell_type": "code",
      "execution_count": null,
      "id": "462a3e43",
      "metadata": {
        "colab": {
          "base_uri": "https://localhost:8080/"
        },
        "id": "462a3e43",
        "outputId": "72e18156-374b-47bb-8d83-e3b4358253f1"
      },
      "outputs": [
        {
          "output_type": "stream",
          "name": "stdout",
          "text": [
            "<class 'pandas.core.frame.DataFrame'>\n",
            "RangeIndex: 6106 entries, 0 to 6105\n",
            "Data columns (total 5 columns):\n",
            " #   Column            Non-Null Count  Dtype \n",
            "---  ------            --------------  ----- \n",
            " 0   song_name         6106 non-null   object\n",
            " 1   artist            6106 non-null   object\n",
            " 2   song_lyrics       6096 non-null   object\n",
            " 3   song_composition  6096 non-null   object\n",
            " 4   song_lang         6106 non-null   object\n",
            "dtypes: object(5)\n",
            "memory usage: 238.6+ KB\n"
          ]
        }
      ],
      "source": [
        "df.info()"
      ]
    },
    {
      "cell_type": "code",
      "execution_count": null,
      "id": "23020f30",
      "metadata": {
        "colab": {
          "base_uri": "https://localhost:8080/",
          "height": 175
        },
        "id": "23020f30",
        "outputId": "5621f770-e8dd-42ba-9309-c2499f3f06b5"
      },
      "outputs": [
        {
          "output_type": "execute_result",
          "data": {
            "text/plain": [
              "            song_name                 artist song_lyrics song_composition  \\\n",
              "count            6106                   6106        6096             6096   \n",
              "unique           5187                    133        5943             1556   \n",
              "top      Desafinado      Vinicius de Moraes                     Not known   \n",
              "freq               15                    321          20             1965   \n",
              "\n",
              "       song_lang  \n",
              "count       6106  \n",
              "unique        17  \n",
              "top           pt  \n",
              "freq        4117  "
            ],
            "text/html": [
              "\n",
              "  <div id=\"df-2004b0af-05dc-4f06-96d9-f379679d643b\" class=\"colab-df-container\">\n",
              "    <div>\n",
              "<style scoped>\n",
              "    .dataframe tbody tr th:only-of-type {\n",
              "        vertical-align: middle;\n",
              "    }\n",
              "\n",
              "    .dataframe tbody tr th {\n",
              "        vertical-align: top;\n",
              "    }\n",
              "\n",
              "    .dataframe thead th {\n",
              "        text-align: right;\n",
              "    }\n",
              "</style>\n",
              "<table border=\"1\" class=\"dataframe\">\n",
              "  <thead>\n",
              "    <tr style=\"text-align: right;\">\n",
              "      <th></th>\n",
              "      <th>song_name</th>\n",
              "      <th>artist</th>\n",
              "      <th>song_lyrics</th>\n",
              "      <th>song_composition</th>\n",
              "      <th>song_lang</th>\n",
              "    </tr>\n",
              "  </thead>\n",
              "  <tbody>\n",
              "    <tr>\n",
              "      <th>count</th>\n",
              "      <td>6106</td>\n",
              "      <td>6106</td>\n",
              "      <td>6096</td>\n",
              "      <td>6096</td>\n",
              "      <td>6106</td>\n",
              "    </tr>\n",
              "    <tr>\n",
              "      <th>unique</th>\n",
              "      <td>5187</td>\n",
              "      <td>133</td>\n",
              "      <td>5943</td>\n",
              "      <td>1556</td>\n",
              "      <td>17</td>\n",
              "    </tr>\n",
              "    <tr>\n",
              "      <th>top</th>\n",
              "      <td>Desafinado</td>\n",
              "      <td>Vinicius de Moraes</td>\n",
              "      <td></td>\n",
              "      <td>Not known</td>\n",
              "      <td>pt</td>\n",
              "    </tr>\n",
              "    <tr>\n",
              "      <th>freq</th>\n",
              "      <td>15</td>\n",
              "      <td>321</td>\n",
              "      <td>20</td>\n",
              "      <td>1965</td>\n",
              "      <td>4117</td>\n",
              "    </tr>\n",
              "  </tbody>\n",
              "</table>\n",
              "</div>\n",
              "    <div class=\"colab-df-buttons\">\n",
              "      \n",
              "  <div class=\"colab-df-container\">\n",
              "    <button class=\"colab-df-convert\" onclick=\"convertToInteractive('df-2004b0af-05dc-4f06-96d9-f379679d643b')\"\n",
              "            title=\"Convert this dataframe to an interactive table.\"\n",
              "            style=\"display:none;\">\n",
              "      \n",
              "  <svg xmlns=\"http://www.w3.org/2000/svg\" height=\"24px\" viewBox=\"0 -960 960 960\">\n",
              "    <path d=\"M120-120v-720h720v720H120Zm60-500h600v-160H180v160Zm220 220h160v-160H400v160Zm0 220h160v-160H400v160ZM180-400h160v-160H180v160Zm440 0h160v-160H620v160ZM180-180h160v-160H180v160Zm440 0h160v-160H620v160Z\"/>\n",
              "  </svg>\n",
              "    </button>\n",
              "    \n",
              "  <style>\n",
              "    .colab-df-container {\n",
              "      display:flex;\n",
              "      gap: 12px;\n",
              "    }\n",
              "\n",
              "    .colab-df-convert {\n",
              "      background-color: #E8F0FE;\n",
              "      border: none;\n",
              "      border-radius: 50%;\n",
              "      cursor: pointer;\n",
              "      display: none;\n",
              "      fill: #1967D2;\n",
              "      height: 32px;\n",
              "      padding: 0 0 0 0;\n",
              "      width: 32px;\n",
              "    }\n",
              "\n",
              "    .colab-df-convert:hover {\n",
              "      background-color: #E2EBFA;\n",
              "      box-shadow: 0px 1px 2px rgba(60, 64, 67, 0.3), 0px 1px 3px 1px rgba(60, 64, 67, 0.15);\n",
              "      fill: #174EA6;\n",
              "    }\n",
              "\n",
              "    .colab-df-buttons div {\n",
              "      margin-bottom: 4px;\n",
              "    }\n",
              "\n",
              "    [theme=dark] .colab-df-convert {\n",
              "      background-color: #3B4455;\n",
              "      fill: #D2E3FC;\n",
              "    }\n",
              "\n",
              "    [theme=dark] .colab-df-convert:hover {\n",
              "      background-color: #434B5C;\n",
              "      box-shadow: 0px 1px 3px 1px rgba(0, 0, 0, 0.15);\n",
              "      filter: drop-shadow(0px 1px 2px rgba(0, 0, 0, 0.3));\n",
              "      fill: #FFFFFF;\n",
              "    }\n",
              "  </style>\n",
              "\n",
              "    <script>\n",
              "      const buttonEl =\n",
              "        document.querySelector('#df-2004b0af-05dc-4f06-96d9-f379679d643b button.colab-df-convert');\n",
              "      buttonEl.style.display =\n",
              "        google.colab.kernel.accessAllowed ? 'block' : 'none';\n",
              "\n",
              "      async function convertToInteractive(key) {\n",
              "        const element = document.querySelector('#df-2004b0af-05dc-4f06-96d9-f379679d643b');\n",
              "        const dataTable =\n",
              "          await google.colab.kernel.invokeFunction('convertToInteractive',\n",
              "                                                    [key], {});\n",
              "        if (!dataTable) return;\n",
              "\n",
              "        const docLinkHtml = 'Like what you see? Visit the ' +\n",
              "          '<a target=\"_blank\" href=https://colab.research.google.com/notebooks/data_table.ipynb>data table notebook</a>'\n",
              "          + ' to learn more about interactive tables.';\n",
              "        element.innerHTML = '';\n",
              "        dataTable['output_type'] = 'display_data';\n",
              "        await google.colab.output.renderOutput(dataTable, element);\n",
              "        const docLink = document.createElement('div');\n",
              "        docLink.innerHTML = docLinkHtml;\n",
              "        element.appendChild(docLink);\n",
              "      }\n",
              "    </script>\n",
              "  </div>\n",
              "  \n",
              "    </div>\n",
              "  </div>\n",
              "  "
            ]
          },
          "metadata": {},
          "execution_count": 6
        }
      ],
      "source": [
        "df.describe()"
      ]
    },
    {
      "cell_type": "code",
      "execution_count": null,
      "id": "447a6ce0",
      "metadata": {
        "colab": {
          "base_uri": "https://localhost:8080/",
          "height": 471
        },
        "id": "447a6ce0",
        "outputId": "2a4bc695-abf6-4071-8a89-5add99b2275b"
      },
      "outputs": [
        {
          "output_type": "execute_result",
          "data": {
            "text/plain": [
              "<Axes: title={'center': 'Quantidade de músicas por idioma'}, ylabel='song_lang'>"
            ]
          },
          "metadata": {},
          "execution_count": 7
        },
        {
          "output_type": "display_data",
          "data": {
            "text/plain": [
              "<Figure size 640x480 with 1 Axes>"
            ],
            "image/png": "[encoded data removed]"
          },
          "metadata": {}
        }
      ],
      "source": [
        "df['song_lang'].value_counts().plot(kind='barh', title='Quantidade de músicas por idioma')"
      ]
    },
    {
      "cell_type": "code",
      "execution_count": null,
      "id": "9318bee0",
      "metadata": {
        "colab": {
          "base_uri": "https://localhost:8080/",
          "height": 471
        },
        "id": "9318bee0",
        "outputId": "6eea909a-2b2f-4250-8c91-80c075f4fca4"
      },
      "outputs": [
        {
          "output_type": "execute_result",
          "data": {
            "text/plain": [
              "<Axes: title={'center': 'Top 10 artistas com mais músicas'}, ylabel='artist'>"
            ]
          },
          "metadata": {},
          "execution_count": 8
        },
        {
          "output_type": "display_data",
          "data": {
            "text/plain": [
              "<Figure size 640x480 with 1 Axes>"
            ],
            "image/png": "[encoded data removed]"
          },
          "metadata": {}
        }
      ],
      "source": [
        "top_artistas = df['artist'].value_counts().head(10)\n",
        "top_artistas.plot(kind='barh', title='Top 10 artistas com mais músicas')"
      ]
    },
    {
      "cell_type": "code",
      "execution_count": null,
      "id": "5a472141",
      "metadata": {
        "colab": {
          "base_uri": "https://localhost:8080/",
          "height": 448
        },
        "id": "5a472141",
        "outputId": "f04b1757-5bbd-4f91-ffa3-8d2dee26d502"
      },
      "outputs": [
        {
          "output_type": "execute_result",
          "data": {
            "text/plain": [
              "<Axes: >"
            ]
          },
          "metadata": {},
          "execution_count": 9
        },
        {
          "output_type": "display_data",
          "data": {
            "text/plain": [
              "<Figure size 640x480 with 1 Axes>"
            ],
            "image/png": "[encoded data removed]"
          },
          "metadata": {}
        }
      ],
      "source": [
        "# número de palavras por letra\n",
        "df['lyric_length'] = df['song_lyrics'].apply(lambda x: len(str(x).split()))\n",
        "df['lyric_length'].hist(bins=30)"
      ]
    },
    {
      "cell_type": "code",
      "execution_count": null,
      "id": "6179537c",
      "metadata": {
        "id": "6179537c",
        "colab": {
          "base_uri": "https://localhost:8080/",
          "height": 649
        },
        "outputId": "d70d09c2-6e1b-4a45-de2b-19bb764c0476"
      },
      "outputs": [
        {
          "output_type": "execute_result",
          "data": {
            "text/plain": [
              "song_lang\n",
              "pt           4117\n",
              "en            706\n",
              "es            577\n",
              "fr            335\n",
              "it            185\n",
              "ca             78\n",
              "Not known      30\n",
              "de             30\n",
              "sw             26\n",
              "ro             10\n",
              "tl              4\n",
              "tr              2\n",
              "hr              2\n",
              "et              1\n",
              "hu              1\n",
              "sk              1\n",
              "id              1\n",
              "Name: count, dtype: int64"
            ],
            "text/html": [
              "<div>\n",
              "<style scoped>\n",
              "    .dataframe tbody tr th:only-of-type {\n",
              "        vertical-align: middle;\n",
              "    }\n",
              "\n",
              "    .dataframe tbody tr th {\n",
              "        vertical-align: top;\n",
              "    }\n",
              "\n",
              "    .dataframe thead th {\n",
              "        text-align: right;\n",
              "    }\n",
              "</style>\n",
              "<table border=\"1\" class=\"dataframe\">\n",
              "  <thead>\n",
              "    <tr style=\"text-align: right;\">\n",
              "      <th></th>\n",
              "      <th>count</th>\n",
              "    </tr>\n",
              "    <tr>\n",
              "      <th>song_lang</th>\n",
              "      <th></th>\n",
              "    </tr>\n",
              "  </thead>\n",
              "  <tbody>\n",
              "    <tr>\n",
              "      <th>pt</th>\n",
              "      <td>4117</td>\n",
              "    </tr>\n",
              "    <tr>\n",
              "      <th>en</th>\n",
              "      <td>706</td>\n",
              "    </tr>\n",
              "    <tr>\n",
              "      <th>es</th>\n",
              "      <td>577</td>\n",
              "    </tr>\n",
              "    <tr>\n",
              "      <th>fr</th>\n",
              "      <td>335</td>\n",
              "    </tr>\n",
              "    <tr>\n",
              "      <th>it</th>\n",
              "      <td>185</td>\n",
              "    </tr>\n",
              "    <tr>\n",
              "      <th>ca</th>\n",
              "      <td>78</td>\n",
              "    </tr>\n",
              "    <tr>\n",
              "      <th>Not known</th>\n",
              "      <td>30</td>\n",
              "    </tr>\n",
              "    <tr>\n",
              "      <th>de</th>\n",
              "      <td>30</td>\n",
              "    </tr>\n",
              "    <tr>\n",
              "      <th>sw</th>\n",
              "      <td>26</td>\n",
              "    </tr>\n",
              "    <tr>\n",
              "      <th>ro</th>\n",
              "      <td>10</td>\n",
              "    </tr>\n",
              "    <tr>\n",
              "      <th>tl</th>\n",
              "      <td>4</td>\n",
              "    </tr>\n",
              "    <tr>\n",
              "      <th>tr</th>\n",
              "      <td>2</td>\n",
              "    </tr>\n",
              "    <tr>\n",
              "      <th>hr</th>\n",
              "      <td>2</td>\n",
              "    </tr>\n",
              "    <tr>\n",
              "      <th>et</th>\n",
              "      <td>1</td>\n",
              "    </tr>\n",
              "    <tr>\n",
              "      <th>hu</th>\n",
              "      <td>1</td>\n",
              "    </tr>\n",
              "    <tr>\n",
              "      <th>sk</th>\n",
              "      <td>1</td>\n",
              "    </tr>\n",
              "    <tr>\n",
              "      <th>id</th>\n",
              "      <td>1</td>\n",
              "    </tr>\n",
              "  </tbody>\n",
              "</table>\n",
              "</div><br><label><b>dtype:</b> int64</label>"
            ]
          },
          "metadata": {},
          "execution_count": 10
        }
      ],
      "source": [
        "df['song_lang'].value_counts()"
      ]
    },
    {
      "cell_type": "code",
      "execution_count": null,
      "id": "13175f0c",
      "metadata": {
        "id": "13175f0c"
      },
      "outputs": [],
      "source": [
        "# Texto indesejado presente em algumas letras\n",
        "texto_indesejado = (\n",
        "    \"essa música foi removida em razão de solicitação do(s) titular(es) da obra. \"\n",
        "    \"o letras.mus.br está trabalhando para obter o licenciamento desse conteúdo.\"\n",
        ")\n",
        "\n",
        "# Remover o texto das letras\n",
        "df['song_lyrics'] = df['song_lyrics'].str.replace(texto_indesejado, '', case=False, regex=False)"
      ]
    },
    {
      "cell_type": "code",
      "execution_count": null,
      "id": "b636a45b",
      "metadata": {
        "id": "b636a45b",
        "colab": {
          "base_uri": "https://localhost:8080/",
          "height": 1000
        },
        "outputId": "2d711889-5835-41b6-fb34-613b9b57642b"
      },
      "outputs": [
        {
          "output_type": "stream",
          "name": "stderr",
          "text": [
            "[nltk_data] Downloading package punkt to /root/nltk_data...\n",
            "[nltk_data]   Package punkt is already up-to-date!\n",
            "[nltk_data] Downloading package punkt_tab to /root/nltk_data...\n",
            "[nltk_data]   Package punkt_tab is already up-to-date!\n",
            "[nltk_data] Downloading package stopwords to /root/nltk_data...\n",
            "[nltk_data]   Package stopwords is already up-to-date!\n"
          ]
        },
        {
          "output_type": "display_data",
          "data": {
            "text/plain": [
              "<Figure size 800x400 with 1 Axes>"
            ],
            "image/png": "[encoded data removed]"
          },
          "metadata": {}
        },
        {
          "output_type": "display_data",
          "data": {
            "text/plain": [
              "<Figure size 800x400 with 1 Axes>"
            ],
            "image/png": "[encoded data removed]"
          },
          "metadata": {}
        },
        {
          "output_type": "display_data",
          "data": {
            "text/plain": [
              "<Figure size 800x400 with 1 Axes>"
            ],
            "image/png": "[encoded data removed]"
          },
          "metadata": {}
        },
        {
          "output_type": "display_data",
          "data": {
            "text/plain": [
              "<Figure size 800x400 with 1 Axes>"
            ],
            "image/png": "[encoded data removed]"
          },
          "metadata": {}
        },
        {
          "output_type": "display_data",
          "data": {
            "text/plain": [
              "<Figure size 800x400 with 1 Axes>"
            ],
            "image/png": "[encoded data removed]"
          },
          "metadata": {}
        }
      ],
      "source": [
        "# Baixar os recursos necessários\n",
        "nltk.download('punkt')\n",
        "nltk.download('punkt_tab')\n",
        "nltk.download('stopwords')\n",
        "\n",
        "# Mapeamento de códigos para nltk\n",
        "codigo_para_nltk = {\n",
        "    'pt': 'portuguese',\n",
        "    'en': 'english',\n",
        "    'es': 'spanish',\n",
        "    'fr': 'french',\n",
        "    'it': 'italian'\n",
        "}\n",
        "\n",
        "todas_palavras = []\n",
        "contagens_por_idioma = {}\n",
        "\n",
        "# Loop por idiomas\n",
        "for codigo in ['pt', 'en', 'es', 'fr', 'it']:\n",
        "    nltk_lang = codigo_para_nltk[codigo]\n",
        "    stopwords_idioma = set(stopwords.words(nltk_lang))\n",
        "\n",
        "    letras = df[df['song_lang'].str.lower() == codigo]['song_lyrics'].dropna().str.lower()\n",
        "    texto = ' '.join(letras)\n",
        "\n",
        "    # Tokenizar com NLTK\n",
        "    tokens = word_tokenize(texto, language=nltk_lang)\n",
        "\n",
        "    # Filtrar palavras válidas (sem pontuação)\n",
        "    palavras = [p for p in tokens if re.match(r'^[a-záéíóúàèìòùâêîôûäëïöüçñ]+$', p)]\n",
        "\n",
        "    # Remover stopwords\n",
        "    palavras_filtradas = [p for p in palavras if p not in stopwords_idioma]\n",
        "\n",
        "    todas_palavras.extend(palavras_filtradas)\n",
        "\n",
        "    contagens_por_idioma[codigo] = Counter(palavras_filtradas).most_common(20)\n",
        "\n",
        "\n",
        "# Gráficos\n",
        "for idioma, palavras_freq in contagens_por_idioma.items():\n",
        "    palavras, frequencias = zip(*palavras_freq)\n",
        "    plt.figure(figsize=(8, 4))\n",
        "    plt.bar(palavras, frequencias, color='skyblue')\n",
        "    plt.title(f'Top 5 palavras mais frequentes - {idioma.upper()}')\n",
        "    plt.xlabel('Palavras')\n",
        "    plt.ylabel('Frequência')\n",
        "    plt.xticks(rotation=45)\n",
        "    plt.tight_layout()\n",
        "    plt.show()"
      ]
    },
    {
      "cell_type": "markdown",
      "source": [
        "# Modelo em PT"
      ],
      "metadata": {
        "id": "UZA51UujGkaH"
      },
      "id": "UZA51UujGkaH"
    },
    {
      "cell_type": "code",
      "source": [
        "# df['song_lyrics'] = df['song_lyrics'].astype(str)\n",
        "# df_pt = df[df['song_lang'] == 'pt'].copy()\n",
        "# corpus_letras = ' '.join(df_pt['song_lyrics'])\n",
        "\n",
        "# vocab = sorted(set(corpus_letras))\n",
        "# char_to_ind = {char:ind for ind, char in enumerate(vocab)}\n",
        "# ind_to_char = np.array(vocab)\n",
        "# encoded_text = np.array([char_to_ind[c] for c in corpus_letras])\n",
        "\n",
        "# seq_len = 1000\n",
        "# total_num_seq = len(corpus_letras)//(seq_len+1)\n",
        "# total_num_seq\n",
        "\n",
        "# char_dataset = tf.data.Dataset.from_tensor_slices(encoded_text)\n",
        "\n",
        "# sequences = char_dataset.batch(seq_len+1, drop_remainder=True)\n",
        "\n",
        "# def create_seq_targets(seq): # Além do horizonte\n",
        "#     input_txt = seq[:-1]     # Além do horizont\n",
        "#     target_txt = seq[1:]     # lém do horizonte\n",
        "#     return input_txt, target_txt\n",
        "\n",
        "# dataset = sequences.map(create_seq_targets)\n",
        "\n",
        "# batch_size = 256\n",
        "# buffer_size = 10000\n",
        "# dataset = dataset.shuffle(buffer_size).batch(batch_size, drop_remainder=True)\n",
        "\n",
        "# vocab_size = len(vocab)\n",
        "# embed_dim = 64\n",
        "# rnn_neurons = 128\n",
        "\n",
        "# def sparse_cat_loss(y_true,y_pred):\n",
        "#     return sparse_categorical_crossentropy(y_true, y_pred, from_logits=True)\n",
        "\n",
        "\n",
        "# def create_model(vocab_size, embed_dim, rnn_neurons, batch_size):\n",
        "#     model = Sequential()\n",
        "#     model.add(Embedding(vocab_size, embed_dim))\n",
        "#     model.add(GRU(rnn_neurons,return_sequences=True,stateful=False,recurrent_initializer='glorot_uniform'))\n",
        "#     model.add(Dense(vocab_size))\n",
        "#     model.compile(optimizer='adam', loss=sparse_cat_loss)\n",
        "#     return model\n",
        "\n",
        "# model = create_model(\n",
        "#   vocab_size = vocab_size,\n",
        "#   embed_dim=embed_dim,\n",
        "#   rnn_neurons=rnn_neurons,\n",
        "#   batch_size=256)\n",
        "\n",
        "# epochs=1\n",
        "\n",
        "# model.fit(dataset,epochs=epochs)\n",
        "\n",
        "# model.save(f'{diretorio_usado}/bn_pt.keras')\n",
        "\n",
        "# model = create_model(vocab_size, embed_dim, rnn_neurons, batch_size=1)\n",
        "# model.build(tf.TensorShape([1, None]))\n",
        "# model.load_weights(f'{diretorio_usado}/bn_pt.keras')\n",
        "\n",
        "# def generate_text(model, tokenizer, start_seed, gen_size=100, temp=1.0):\n",
        "#     input_eval = tokenizer.texts_to_sequences([start_seed])[0]\n",
        "#     input_eval = tf.expand_dims(input_eval, 0)\n",
        "\n",
        "#     text_generated = []\n",
        "#     temperature = temp\n",
        "\n",
        "#     for i in range(gen_size):\n",
        "#         predictions = model(input_eval)\n",
        "#         predictions = tf.squeeze(predictions, 0)\n",
        "\n",
        "#         predictions = predictions / temperature\n",
        "#         predicted_id = tf.random.categorical(predictions, num_samples=1)[-1, 0].numpy()\n",
        "\n",
        "#         input_eval = tf.expand_dims([predicted_id], 0)\n",
        "\n",
        "#         # Converter índice de volta para palavra\n",
        "#         for word, index in tokenizer.word_index.items():\n",
        "#             if index == predicted_id:\n",
        "#                 predicted_word = word\n",
        "#                 break\n",
        "#         else:\n",
        "#             predicted_word = ''  # caso índice inválido\n",
        "\n",
        "#         text_generated.append(predicted_word)\n",
        "\n",
        "#     return start_seed + ' ' + ' '.join(text_generated)\n",
        "\n",
        "# tokenizer = Tokenizer()\n",
        "# tokenizer.fit_on_texts(df_pt[\"song_lyrics\"])\n",
        "\n",
        "# print(generate_text(model, tokenizer, \"Amor\", gen_size=50, temp=1.0))"
      ],
      "metadata": {
        "id": "FFqdT2WWHwJU"
      },
      "id": "FFqdT2WWHwJU",
      "execution_count": null,
      "outputs": []
    },
    {
      "cell_type": "markdown",
      "source": [
        "# Modelos para os três idiomas"
      ],
      "metadata": {
        "id": "C6YpeZb7PYzb"
      },
      "id": "C6YpeZb7PYzb"
    },
    {
      "cell_type": "code",
      "source": [
        "codigo_para_nltk = {\n",
        "    'pt': 'portuguese',\n",
        "    'en': 'english',\n",
        "    'es': 'spanish'\n",
        "}\n",
        "\n",
        "# Baixar os recursos necessários\n",
        "nltk.download('punkt')\n",
        "nltk.download('punkt_tab')\n",
        "nltk.download('stopwords')\n",
        "\n",
        "corpus_por_idioma = {}\n",
        "\n",
        "for lang in ['pt', 'en', 'es']:\n",
        "    nltk_lang = codigo_para_nltk[lang]\n",
        "    stopwords_idioma = set(stopwords.words(nltk_lang))\n",
        "\n",
        "    df_filtrado = df[df[\"song_lang\"] == lang]\n",
        "    letras = df_filtrado[\"song_lyrics\"].dropna().str.lower()\n",
        "    corpus = []\n",
        "\n",
        "    for linha in letras:\n",
        "        tokens = word_tokenize(linha, language=nltk_lang)\n",
        "        tokens = [t for t in tokens if t.isalpha() and t not in stopwords_idioma]\n",
        "        corpus.extend(tokens)\n",
        "\n",
        "    corpus_por_idioma[lang] = ' '.join(corpus)\n"
      ],
      "metadata": {
        "colab": {
          "base_uri": "https://localhost:8080/"
        },
        "id": "tVLFT8FSPbFb",
        "outputId": "366f0962-a1e5-44a8-a1e6-9db9acb3461d"
      },
      "id": "tVLFT8FSPbFb",
      "execution_count": null,
      "outputs": [
        {
          "output_type": "stream",
          "name": "stderr",
          "text": [
            "[nltk_data] Downloading package punkt to /root/nltk_data...\n",
            "[nltk_data]   Package punkt is already up-to-date!\n",
            "[nltk_data] Downloading package punkt_tab to /root/nltk_data...\n",
            "[nltk_data]   Package punkt_tab is already up-to-date!\n",
            "[nltk_data] Downloading package stopwords to /root/nltk_data...\n",
            "[nltk_data]   Package stopwords is already up-to-date!\n"
          ]
        }
      ]
    },
    {
      "cell_type": "code",
      "source": [
        "# Dicionários para armazenar resultados por idioma\n",
        "char_to_ind_por_idioma = {}\n",
        "ind_to_char_por_idioma = {}\n",
        "encoded_text_por_idioma = {}\n",
        "\n",
        "for lang, corpus_letras in corpus_por_idioma.items():\n",
        "    vocab = sorted(set(corpus_letras))\n",
        "    char_to_ind = {char: ind for ind, char in enumerate(vocab)}\n",
        "    ind_to_char = np.array(vocab)\n",
        "    encoded_text = np.array([char_to_ind[c] for c in corpus_letras])\n",
        "\n",
        "    # Armazenar resultados por idioma\n",
        "    char_to_ind_por_idioma[lang] = char_to_ind\n",
        "    ind_to_char_por_idioma[lang] = ind_to_char\n",
        "    encoded_text_por_idioma[lang] = encoded_text"
      ],
      "metadata": {
        "id": "EUfFF1t4QWaH"
      },
      "id": "EUfFF1t4QWaH",
      "execution_count": null,
      "outputs": []
    },
    {
      "cell_type": "code",
      "source": [
        "seq_len = 1000\n",
        "\n",
        "# Dicionário para armazenar os datasets por idioma\n",
        "dataset_por_idioma = {}\n",
        "\n",
        "# Função para criar pares (entrada, alvo)\n",
        "def create_seq_targets(seq):\n",
        "    input_txt = seq[:-1]\n",
        "    target_txt = seq[1:]\n",
        "    return input_txt, target_txt\n",
        "\n",
        "# Loop pelos idiomas\n",
        "for lang, encoded_text in encoded_text_por_idioma.items():\n",
        "    char_dataset = tf.data.Dataset.from_tensor_slices(encoded_text)\n",
        "    sequences = char_dataset.batch(seq_len + 1, drop_remainder=True)\n",
        "    dataset = sequences.map(create_seq_targets)\n",
        "\n",
        "    dataset_por_idioma[lang] = dataset"
      ],
      "metadata": {
        "id": "BFH95iekQoYY"
      },
      "id": "BFH95iekQoYY",
      "execution_count": null,
      "outputs": []
    },
    {
      "cell_type": "code",
      "source": [
        "batch_size = 256\n",
        "buffer_size = 10000\n",
        "\n",
        "dataset_final_por_idioma = {}\n",
        "\n",
        "for lang, dataset in dataset_por_idioma.items():\n",
        "    dataset_final = dataset.shuffle(buffer_size).batch(batch_size, drop_remainder=True)\n",
        "    dataset_final_por_idioma[lang] = dataset_final\n"
      ],
      "metadata": {
        "id": "JHljIpr7Tmac"
      },
      "id": "JHljIpr7Tmac",
      "execution_count": null,
      "outputs": []
    },
    {
      "cell_type": "code",
      "source": [
        "embed_dim = 64\n",
        "rnn_neurons = 128\n",
        "batch_size = 256\n",
        "tokenizer = Tokenizer()\n",
        "vocab_size = len(tokenizer.word_index) + 1\n",
        "\n",
        "# Função de perda\n",
        "def sparse_cat_loss(y_true, y_pred):\n",
        "    return sparse_categorical_crossentropy(y_true, y_pred, from_logits=True)\n",
        "\n",
        "# Função para criar o modelo\n",
        "def create_model(vocab_size, embed_dim, rnn_neurons, batch_size):\n",
        "    model = Sequential()\n",
        "    model.add(Embedding(vocab_size, embed_dim))\n",
        "    model.add(GRU(rnn_neurons, return_sequences=True, stateful=False, recurrent_initializer='glorot_uniform'))\n",
        "    model.add(Dense(vocab_size))\n",
        "    model.compile(optimizer='adam', loss=sparse_cat_loss)\n",
        "    return model\n",
        "\n",
        "# Dicionário para armazenar os modelos por idioma\n",
        "modelos_por_idioma = {}\n",
        "\n",
        "# Criar modelo por idioma\n",
        "for lang, vocab in ind_to_char_por_idioma.items():\n",
        "    vocab_size = len(vocab)\n",
        "    modelo = create_model(vocab_size, embed_dim, rnn_neurons, batch_size)\n",
        "    modelos_por_idioma[lang] = modelo"
      ],
      "metadata": {
        "id": "ygM3cFQETt8x"
      },
      "id": "ygM3cFQETt8x",
      "execution_count": null,
      "outputs": []
    },
    {
      "cell_type": "code",
      "source": [
        "# Criação dos modelos por idioma\n",
        "modelos_por_idioma = {}\n",
        "\n",
        "for lang, vocab_array in ind_to_char_por_idioma.items():\n",
        "    vocab_size = len(vocab_array)\n",
        "\n",
        "    model = create_model(\n",
        "        vocab_size=vocab_size,\n",
        "        embed_dim=embed_dim,\n",
        "        rnn_neurons=rnn_neurons,\n",
        "        batch_size=batch_size\n",
        "    )\n",
        "\n",
        "    modelos_por_idioma[lang] = model\n"
      ],
      "metadata": {
        "id": "pCFy0M0DT28x"
      },
      "id": "pCFy0M0DT28x",
      "execution_count": null,
      "outputs": []
    },
    {
      "cell_type": "code",
      "source": [
        "epochs = 5\n",
        "\n",
        "# Dicionário para armazenar histórico de treinamento\n",
        "historico_por_idioma = {}\n",
        "\n",
        "for lang in modelos_por_idioma:\n",
        "    print(f\"\\nTreinando modelo para idioma: {lang}\")\n",
        "    model = modelos_por_idioma[lang]\n",
        "    dataset = dataset_final_por_idioma[lang]\n",
        "\n",
        "    history = model.fit(dataset, epochs=epochs)\n",
        "    historico_por_idioma[lang] = history\n"
      ],
      "metadata": {
        "colab": {
          "base_uri": "https://localhost:8080/"
        },
        "id": "H3kKqaW1T9uD",
        "outputId": "80026c05-61b0-4795-eac6-00292566959c"
      },
      "id": "H3kKqaW1T9uD",
      "execution_count": null,
      "outputs": [
        {
          "output_type": "stream",
          "name": "stdout",
          "text": [
            "\n",
            "Treinando modelo para idioma: pt\n",
            "Epoch 1/5\n",
            "\u001b[1m6/6\u001b[0m \u001b[32m━━━━━━━━━━━━━━━━━━━━\u001b[0m\u001b[37m\u001b[0m \u001b[1m7s\u001b[0m 97ms/step - loss: 3.7612\n",
            "Epoch 2/5\n",
            "\u001b[1m6/6\u001b[0m \u001b[32m━━━━━━━━━━━━━━━━━━━━\u001b[0m\u001b[37m\u001b[0m \u001b[1m2s\u001b[0m 86ms/step - loss: 3.1003\n",
            "Epoch 3/5\n",
            "\u001b[1m6/6\u001b[0m \u001b[32m━━━━━━━━━━━━━━━━━━━━\u001b[0m\u001b[37m\u001b[0m \u001b[1m2s\u001b[0m 86ms/step - loss: 2.8075\n",
            "Epoch 4/5\n",
            "\u001b[1m6/6\u001b[0m \u001b[32m━━━━━━━━━━━━━━━━━━━━\u001b[0m\u001b[37m\u001b[0m \u001b[1m2s\u001b[0m 85ms/step - loss: 2.6134\n",
            "Epoch 5/5\n",
            "\u001b[1m6/6\u001b[0m \u001b[32m━━━━━━━━━━━━━━━━━━━━\u001b[0m\u001b[37m\u001b[0m \u001b[1m3s\u001b[0m 96ms/step - loss: 2.4689\n",
            "\n",
            "Treinando modelo para idioma: en\n",
            "Epoch 1/5\n",
            "\u001b[1m1/1\u001b[0m \u001b[32m━━━━━━━━━━━━━━━━━━━━\u001b[0m\u001b[37m\u001b[0m \u001b[1m2s\u001b[0m 2s/step - loss: 3.7359\n",
            "Epoch 2/5\n",
            "\u001b[1m1/1\u001b[0m \u001b[32m━━━━━━━━━━━━━━━━━━━━\u001b[0m\u001b[37m\u001b[0m \u001b[1m1s\u001b[0m 531ms/step - loss: 3.6665\n",
            "Epoch 3/5\n",
            "\u001b[1m1/1\u001b[0m \u001b[32m━━━━━━━━━━━━━━━━━━━━\u001b[0m\u001b[37m\u001b[0m \u001b[1m1s\u001b[0m 605ms/step - loss: 3.5814\n",
            "Epoch 4/5\n",
            "\u001b[1m1/1\u001b[0m \u001b[32m━━━━━━━━━━━━━━━━━━━━\u001b[0m\u001b[37m\u001b[0m \u001b[1m0s\u001b[0m 412ms/step - loss: 3.4791\n",
            "Epoch 5/5\n",
            "\u001b[1m1/1\u001b[0m \u001b[32m━━━━━━━━━━━━━━━━━━━━\u001b[0m\u001b[37m\u001b[0m \u001b[1m0s\u001b[0m 413ms/step - loss: 3.3607\n",
            "\n",
            "Treinando modelo para idioma: es\n",
            "Epoch 1/5\n",
            "\u001b[1m1/1\u001b[0m \u001b[32m━━━━━━━━━━━━━━━━━━━━\u001b[0m\u001b[37m\u001b[0m \u001b[1m2s\u001b[0m 2s/step - loss: 3.6890\n",
            "Epoch 2/5\n",
            "\u001b[1m1/1\u001b[0m \u001b[32m━━━━━━━━━━━━━━━━━━━━\u001b[0m\u001b[37m\u001b[0m \u001b[1m1s\u001b[0m 655ms/step - loss: 3.6104\n",
            "Epoch 3/5\n",
            "\u001b[1m1/1\u001b[0m \u001b[32m━━━━━━━━━━━━━━━━━━━━\u001b[0m\u001b[37m\u001b[0m \u001b[1m1s\u001b[0m 622ms/step - loss: 3.5160\n",
            "Epoch 4/5\n",
            "\u001b[1m1/1\u001b[0m \u001b[32m━━━━━━━━━━━━━━━━━━━━\u001b[0m\u001b[37m\u001b[0m \u001b[1m1s\u001b[0m 581ms/step - loss: 3.4017\n",
            "Epoch 5/5\n",
            "\u001b[1m1/1\u001b[0m \u001b[32m━━━━━━━━━━━━━━━━━━━━\u001b[0m\u001b[37m\u001b[0m \u001b[1m0s\u001b[0m 464ms/step - loss: 3.2750\n"
          ]
        }
      ]
    },
    {
      "cell_type": "code",
      "source": [
        "# Diretório base (ajuste se necessário)\n",
        "base_path = f\"{diretorio_usado}/\"\n",
        "\n",
        "# Dicionário para armazenar modelos carregados com batch_size=1\n",
        "modelos_inferência_por_idioma = {}\n",
        "\n",
        "for lang, vocab_array in ind_to_char_por_idioma.items():\n",
        "    vocab_size = len(vocab_array)\n",
        "    path_modelo = f\"{base_path}bn_{lang}.keras\"\n",
        "\n",
        "    # Salvar o modelo treinado\n",
        "    modelos_por_idioma[lang].save(path_modelo)\n",
        "\n",
        "    # Criar novo modelo para inferência com batch_size=1\n",
        "    modelo_infer = create_model(vocab_size, embed_dim, rnn_neurons, batch_size=1)\n",
        "    modelo_infer.build(tf.TensorShape([1, None]))\n",
        "\n",
        "    # Carregar pesos\n",
        "    modelo_infer.load_weights(path_modelo)\n",
        "\n",
        "    # Armazenar modelo carregado\n",
        "    modelos_inferência_por_idioma[lang] = modelo_infer\n"
      ],
      "metadata": {
        "colab": {
          "base_uri": "https://localhost:8080/"
        },
        "id": "63I9jabnUC_X",
        "outputId": "e1f5ec3e-4aca-477d-abc6-781d33633b9a"
      },
      "id": "63I9jabnUC_X",
      "execution_count": null,
      "outputs": [
        {
          "output_type": "stream",
          "name": "stderr",
          "text": [
            "/usr/local/lib/python3.11/dist-packages/keras/src/saving/saving_lib.py:757: UserWarning: Skipping variable loading for optimizer 'adam', because it has 2 variables whereas the saved optimizer has 14 variables. \n",
            "  saveable.load_own_variables(weights_store.get(inner_path))\n"
          ]
        }
      ]
    },
    {
      "cell_type": "code",
      "source": [
        "def generate_text(model, tokenizer, start_seed, gen_size=100, temp=1.0):\n",
        "    input_eval = tokenizer.texts_to_sequences([start_seed])[0]\n",
        "    input_eval = tf.expand_dims(input_eval, 0)\n",
        "\n",
        "    text_generated = []\n",
        "    temperature = temp\n",
        "\n",
        "    for i in range(gen_size):\n",
        "        predictions = model(input_eval)\n",
        "        predictions = tf.squeeze(predictions, 0)\n",
        "\n",
        "        predictions = predictions / temperature\n",
        "        predicted_id = tf.random.categorical(predictions, num_samples=1)[-1, 0].numpy()\n",
        "\n",
        "        input_eval = tf.expand_dims([predicted_id], 0)\n",
        "\n",
        "        # Converter índice de volta para palavra\n",
        "        for word, index in tokenizer.word_index.items():\n",
        "            if index == predicted_id:\n",
        "                predicted_word = word\n",
        "                break\n",
        "        else:\n",
        "            predicted_word = ''  # caso índice inválido\n",
        "\n",
        "        text_generated.append(predicted_word)\n",
        "\n",
        "    return start_seed + ' ' + ' '.join(text_generated)\n"
      ],
      "metadata": {
        "id": "iO8ksMk8UbPC"
      },
      "id": "iO8ksMk8UbPC",
      "execution_count": null,
      "outputs": []
    },
    {
      "cell_type": "code",
      "source": [
        "# Mapeia idioma simples -> nome compatível com modelo\n",
        "idioma_para_nome_modelo = {\n",
        "    \"pt\": \"pt\",   # exemplo: modelo_bn_pt.keras\n",
        "    \"en\": \"en\",\n",
        "    \"es\": \"es\"\n",
        "}\n",
        "\n",
        "tokenizer_por_idioma = {}\n",
        "\n",
        "for lang in [\"pt\", \"en\", \"es\"]:\n",
        "    df_filtrado = df[df[\"song_lang\"] == lang].copy()\n",
        "    df_filtrado[\"song_lyrics\"] = df_filtrado[\"song_lyrics\"].astype(str)\n",
        "\n",
        "    tokenizer = Tokenizer()\n",
        "    tokenizer.fit_on_texts(df_filtrado[\"song_lyrics\"])\n",
        "    tokenizer_por_idioma[lang] = tokenizer\n",
        "\n",
        "import json\n",
        "\n",
        "# Salvar usando nomes compatíveis com os modelos\n",
        "for lang, tokenizer in tokenizer_por_idioma.items():\n",
        "    nome_arquivo = idioma_para_nome_modelo[lang]\n",
        "    data = {\n",
        "        \"word_index\": tokenizer.word_index\n",
        "    }\n",
        "\n",
        "    with open(f\"{diretorio_usado}/tokenizer_{nome_arquivo}.json\", \"w\", encoding=\"utf-8\") as f:\n",
        "        json.dump(data, f)\n"
      ],
      "metadata": {
        "id": "A5oGe9ZGUjvw"
      },
      "id": "A5oGe9ZGUjvw",
      "execution_count": null,
      "outputs": []
    },
    {
      "cell_type": "code",
      "source": [
        "# Português\n",
        "model_pt = modelos_inferência_por_idioma['pt']\n",
        "tokenizer_pt = tokenizer_por_idioma['pt']\n",
        "texto_pt = generate_text(model_pt, tokenizer_pt, \"Amor\", gen_size=50, temp=1.0)\n",
        "print(\"📘 Idioma: PT\")\n",
        "print(texto_pt)"
      ],
      "metadata": {
        "colab": {
          "base_uri": "https://localhost:8080/"
        },
        "id": "HMjErRBKUliu",
        "outputId": "33c1941e-7071-4680-9c8a-33817d27f92d"
      },
      "id": "HMjErRBKUliu",
      "execution_count": null,
      "outputs": [
        {
          "output_type": "stream",
          "name": "stdout",
          "text": [
            "📘 Idioma: PT\n",
            "Amor  é se por você do mas é que  quando com na e vai mas minha do do vai vida na de de mas e em meu amor os eu você  mim do o vai e em você amor em não que os sem mas tudo tudo meu\n"
          ]
        }
      ]
    },
    {
      "cell_type": "code",
      "source": [
        "# Inglês\n",
        "model_en = modelos_inferência_por_idioma['en']\n",
        "tokenizer_en = tokenizer_por_idioma['en']\n",
        "texto_en = generate_text(model_en, tokenizer_en, \"Love\", gen_size=50, temp=1.0)\n",
        "print(\"\\n📘 Idioma: EN\")\n",
        "print(texto_en)"
      ],
      "metadata": {
        "colab": {
          "base_uri": "https://localhost:8080/"
        },
        "id": "INDoI1uaU25x",
        "outputId": "a8dec8e0-32f0-4f3e-a6ec-3a25be973bcf"
      },
      "id": "INDoI1uaU25x",
      "execution_count": null,
      "outputs": [
        {
          "output_type": "stream",
          "name": "stdout",
          "text": [
            "\n",
            "📘 Idioma: EN\n",
            "Love and when me a in i'm we know is are this is the your this i know will the have for for for for can when no and and what no me  the we so it it are can no you but it's we that what it's i that\n"
          ]
        }
      ]
    },
    {
      "cell_type": "code",
      "source": [
        "# Espanhol\n",
        "model_es = modelos_inferência_por_idioma['es']\n",
        "tokenizer_es = tokenizer_por_idioma['es']\n",
        "texto_es = generate_text(model_es, tokenizer_es, \"Amor\", gen_size=50, temp=1.0)\n",
        "print(\"\\n📘 Idioma: ES\")\n",
        "print(texto_es)"
      ],
      "metadata": {
        "colab": {
          "base_uri": "https://localhost:8080/"
        },
        "id": "T7JpK0-YYq8t",
        "outputId": "b83e4307-6e66-46fe-e76b-9fad0904e95f"
      },
      "id": "T7JpK0-YYq8t",
      "execution_count": null,
      "outputs": [
        {
          "output_type": "stream",
          "name": "stdout",
          "text": [
            "\n",
            "📘 Idioma: ES\n",
            "Amor por por la ya su pero me 9474 si de 9474 más las con un es  se sin las quiero lo como no 9474 los los todo los  y  me a un 9474 no sin al es yo lo si a se cuando todo el de de\n"
          ]
        }
      ]
    },
    {
      "cell_type": "markdown",
      "source": [
        "# Streamlit"
      ],
      "metadata": {
        "id": "xXHHMqWu-VuU"
      },
      "id": "xXHHMqWu-VuU"
    },
    {
      "cell_type": "markdown",
      "source": [
        "## Criar app.py"
      ],
      "metadata": {
        "id": "I_z6q4MC2LIs"
      },
      "id": "I_z6q4MC2LIs"
    },
    {
      "cell_type": "code",
      "source": [
        "# Gerar o código do app.py\n",
        "diretorio_usado = \"/content/drive/MyDrive/Bossa_Nova\"\n",
        "import os\n",
        "\n",
        "streamlit_app_code = \"\"\"\n",
        "import streamlit as st\n",
        "st.set_page_config(page_title=\"Gerador de Letras Multilingue\", layout=\"centered\")\n",
        "\n",
        "import os\n",
        "import json\n",
        "import tensorflow as tf\n",
        "from tensorflow.keras.models import load_model\n",
        "from keras.losses import sparse_categorical_crossentropy\n",
        "from tensorflow.keras.preprocessing.text import Tokenizer\n",
        "\n",
        "diretorio_usado = \"/content/drive/MyDrive/Bossa_Nova\"\n",
        "\n",
        "@st.cache_resource\n",
        "def load_all_models_and_tokenizers(model_dir=f\"{diretorio_usado}/\"):\n",
        "    modelos = {}\n",
        "    tokenizers = {}\n",
        "\n",
        "    def sparse_cat_loss(y_true, y_pred):\n",
        "        return sparse_categorical_crossentropy(y_true, y_pred)\n",
        "\n",
        "    for arquivo in os.listdir(model_dir):\n",
        "        if arquivo.endswith(\".keras\") and arquivo.startswith(\"bn_\"):\n",
        "            nome = arquivo.replace(\"bn_\", \"\").replace(\".keras\", \"\")\n",
        "            try:\n",
        "                modelos[nome] = load_model(\n",
        "                    os.path.join(model_dir, arquivo),\n",
        "                    custom_objects={\"sparse_cat_loss\": sparse_cat_loss}\n",
        "                )\n",
        "            except Exception as e:\n",
        "                st.warning(f\"Erro ao carregar modelo {arquivo}: {e}\")\n",
        "\n",
        "        elif arquivo.endswith(\".json\") and arquivo.startswith(\"tokenizer_\"):\n",
        "            nome = arquivo.replace(\"tokenizer_\", \"\").replace(\".json\", \"\")\n",
        "            try:\n",
        "                with open(os.path.join(model_dir, arquivo), \"r\", encoding=\"utf-8\") as f:\n",
        "                    data = json.load(f)\n",
        "                    tok = Tokenizer()\n",
        "                    tok.word_index = data[\"word_index\"]\n",
        "                    tokenizers[nome] = tok\n",
        "            except Exception as e:\n",
        "                st.warning(f\"Erro ao carregar tokenizer {arquivo}: {e}\")\n",
        "\n",
        "    return modelos, tokenizers\n",
        "\n",
        "modelos, tokenizers = load_all_models_and_tokenizers()\n",
        "\n",
        "if not modelos:\n",
        "    st.error(\"❌ Nenhum modelo foi carregado. Verifique se os arquivos .keras estão presentes e corretos.\")\n",
        "    st.stop()\n",
        "\n",
        "if not tokenizers:\n",
        "    st.error(\"❌ Nenhum tokenizer foi carregado. Verifique os arquivos tokenizer_*.json.\")\n",
        "    st.stop()\n",
        "\n",
        "#st.write(\"🧠 Modelos carregados:\", list(modelos.keys()))\n",
        "#st.write(\"🧾 Tokenizers carregados:\", list(tokenizers.keys()))\n",
        "\n",
        "st.title(\"🎶 Gerador de Letras de Música\")\n",
        "\n",
        "idioma = st.selectbox(\"🌍 Escolha o modelo/idioma\", sorted(modelos.keys()))\n",
        "\n",
        "start_seed = st.text_input(\"🔤 Palavra/frase inicial\", \"amor\")\n",
        "gen_size = st.slider(\"📏 Tamanho da música\", 10, 300, 100, step=10)\n",
        "temp = st.slider(\"🌡️ Temperatura\", 0.1, 1.0, 0.55, step=0.05)\n",
        "\n",
        "def generate_text(model, tokenizer, start_seed, gen_size=100, temp=1.0):\n",
        "    if start_seed not in tokenizer.word_index:\n",
        "        return None  # Palavra não reconhecida\n",
        "\n",
        "    input_eval = tokenizer.texts_to_sequences([start_seed])[0]\n",
        "    input_eval = tf.expand_dims(input_eval, 0)\n",
        "    text_generated = []\n",
        "\n",
        "    for _ in range(gen_size):\n",
        "        predictions = model(input_eval)\n",
        "        predictions = tf.squeeze(predictions, 0)\n",
        "        predictions = predictions / temp\n",
        "        predicted_id = tf.random.categorical(predictions, num_samples=1)[-1, 0].numpy()\n",
        "        input_eval = tf.expand_dims([predicted_id], 0)\n",
        "\n",
        "        predicted_word = next((word for word, index in tokenizer.word_index.items() if index == predicted_id), '')\n",
        "        text_generated.append(predicted_word)\n",
        "\n",
        "    return start_seed + ' ' + ' '.join(text_generated)\n",
        "\n",
        "if st.button(\"🎤 Gerar letra\"):\n",
        "    with st.spinner(\"Gerando...\"):\n",
        "        modelo_escolhido = modelos[idioma]\n",
        "\n",
        "        if idioma not in tokenizers:\n",
        "            st.error(f\"❌ Tokenizer para o modelo '{idioma}' não encontrado.\")\n",
        "        else:\n",
        "            tokenizer_escolhido = tokenizers[idioma]\n",
        "            letra = generate_text(modelo_escolhido, tokenizer_escolhido, start_seed, gen_size, temp)\n",
        "\n",
        "            if letra is None:\n",
        "                st.warning(\"⚠️ A palavra inicial não está no vocabulário do modelo. Tente outra.\")\n",
        "            else:\n",
        "                st.success(\"✅ Letra gerada com sucesso!\")\n",
        "                st.text_area(\"🎵 Letra\", letra, height=300)\n",
        "\n",
        "\"\"\"\n",
        "\n",
        "with open(f\"{diretorio_usado}/app.py\", \"w\", encoding=\"utf-8\") as f:\n",
        "    f.write(streamlit_app_code)\n"
      ],
      "metadata": {
        "id": "3jfRMD4rDa5k"
      },
      "id": "3jfRMD4rDa5k",
      "execution_count": null,
      "outputs": []
    },
    {
      "cell_type": "markdown",
      "source": [
        "## Executar"
      ],
      "metadata": {
        "id": "hellk5Ye0d1Y"
      },
      "id": "hellk5Ye0d1Y"
    },
    {
      "cell_type": "code",
      "source": [
        "!pip install pyngrok -q\n",
        "!pip install streamlit -q\n",
        "\n",
        "from pyngrok import ngrok\n",
        "import time\n",
        "import subprocess\n",
        "\n",
        "!ngrok config add-authtoken SEU_AUTH_TOKEN_AQUI"
      ],
      "metadata": {
        "id": "fjuX2V8mEQnA"
      },
      "id": "fjuX2V8mEQnA",
      "execution_count": null,
      "outputs": []
    },
    {
      "cell_type": "code",
      "source": [
        "diretorio_usado = \"/content/drive/MyDrive/Bossa_Nova\"\n",
        "\n",
        "# Abrir túnel ngrok na porta do Streamlit\n",
        "public_url = ngrok.connect(\"http://localhost:8501\")\n",
        "print(\"🔗 Acesse o app em:\", public_url)\n",
        "\n",
        "# Rodar o Streamlit\n",
        "process = subprocess.Popen([\"streamlit\", \"run\", f\"{diretorio_usado}/app.py\"])"
      ],
      "metadata": {
        "id": "Gl0SPe7iDcgC"
      },
      "id": "Gl0SPe7iDcgC",
      "execution_count": null,
      "outputs": []
    },
    {
      "cell_type": "markdown",
      "source": [
        "## Limpar cache e fecha túneis"
      ],
      "metadata": {
        "id": "fNh3Ur8E1BHL"
      },
      "id": "fNh3Ur8E1BHL"
    },
    {
      "cell_type": "code",
      "source": [
        "# Fecha todos os túneis abertos nesta sessão\n",
        "ngrok.kill()\n",
        "print(\"✅ Todos os túneis ngrok foram encerrados.\")\n",
        "\n",
        "!pkill streamlit"
      ],
      "metadata": {
        "colab": {
          "base_uri": "https://localhost:8080/"
        },
        "id": "vmAXlCodDdg6",
        "outputId": "be4e6ee4-5fd6-4796-c295-cbc7cbedc9c3"
      },
      "id": "vmAXlCodDdg6",
      "execution_count": null,
      "outputs": [
        {
          "output_type": "stream",
          "name": "stdout",
          "text": [
            "✅ Todos os túneis ngrok foram encerrados.\n"
          ]
        }
      ]
    }
  ],
  "metadata": {
    "kernelspec": {
      "display_name": "Python 3",
      "name": "python3"
    },
    "language_info": {
      "codemirror_mode": {
        "name": "ipython",
        "version": 3
      },
      "file_extension": ".py",
      "mimetype": "text/x-python",
      "name": "python",
      "nbconvert_exporter": "python",
      "pygments_lexer": "ipython3",
      "version": "3.12.3"
    },
    "colab": {
      "provenance": [],
      "collapsed_sections": [
        "uyImsY2N1xhf",
        "WjzlhiqOEsNj",
        "UZA51UujGkaH",
        "C6YpeZb7PYzb",
        "I_z6q4MC2LIs",
        "fNh3Ur8E1BHL"
      ],
      "gpuType": "T4"
    },
    "accelerator": "GPU"
  },
  "nbformat": 4,
  "nbformat_minor": 5
}